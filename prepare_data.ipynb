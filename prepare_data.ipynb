{
 "cells": [
  {
   "cell_type": "code",
   "execution_count": 1,
   "metadata": {},
   "outputs": [],
   "source": [
    "import pandas as pd\n",
    "import numpy as np"
   ]
  },
  {
   "cell_type": "code",
   "execution_count": 2,
   "metadata": {},
   "outputs": [],
   "source": [
    "df1 = pd.read_csv(\"311_Service_Requests_2022.csv\")\n",
    "df2 = pd.read_csv(\"census_data2.csv\")"
   ]
  },
  {
   "cell_type": "code",
   "execution_count": 3,
   "metadata": {},
   "outputs": [],
   "source": [
    "df1 = df1.dropna(subset=['zip_code'])"
   ]
  },
  {
   "cell_type": "code",
   "execution_count": 4,
   "metadata": {},
   "outputs": [],
   "source": [
    "# df1['zip_code'] = df1['zip_code'].astype(int)\n",
    "# df2['zip_code'] = df2['zip_code'].astype(int)"
   ]
  },
  {
   "cell_type": "code",
   "execution_count": 5,
   "metadata": {},
   "outputs": [
    {
     "name": "stdout",
     "output_type": "stream",
     "text": [
      "(333674, 26)\n",
      "(33774, 50)\n"
     ]
    }
   ],
   "source": [
    "print(df1.shape)\n",
    "print(df2.shape)"
   ]
  },
  {
   "cell_type": "code",
   "execution_count": 6,
   "metadata": {},
   "outputs": [],
   "source": [
    "# print(df1.head(2))\n",
    "# print(df2.head(2))"
   ]
  },
  {
   "cell_type": "code",
   "execution_count": 7,
   "metadata": {},
   "outputs": [],
   "source": [
    "df = pd.merge(df1, df2, on='zip_code', how='left', suffixes=('_left', '_right'))"
   ]
  },
  {
   "cell_type": "code",
   "execution_count": 8,
   "metadata": {},
   "outputs": [
    {
     "name": "stdout",
     "output_type": "stream",
     "text": [
      "(333674, 75)\n"
     ]
    }
   ],
   "source": [
    "print(df.shape)"
   ]
  },
  {
   "cell_type": "code",
   "execution_count": 9,
   "metadata": {},
   "outputs": [],
   "source": [
    "# Replace -666666666 with an empty string\n",
    "df = df.replace(-666666666, '')\n",
    "df = df.replace(-888888888, '')"
   ]
  },
  {
   "cell_type": "code",
   "execution_count": 10,
   "metadata": {},
   "outputs": [
    {
     "name": "stdout",
     "output_type": "stream",
     "text": [
      "Index(['ticket_id', 'issue_type', 'issue_description', 'case_owner',\n",
      "       'case_owner_description', 'street_address', 'city', 'state', 'zip_code',\n",
      "       'neighborhood_district', 'created_year_month',\n",
      "       'ticket_created_date_time', 'ticket__last_update_date_time',\n",
      "       'ticket_closed_date_time', 'ticket_status', 'location_city',\n",
      "       'sr_xcoordinate', 'sr_ycoordinate', 'latitude', 'longitude',\n",
      "       'method_received', 'sr_priority', 'goal_days', 'actual_completed_days',\n",
      "       'ticket_year', 'ObjectId', 'NAME', 'DP02_0079E', 'DP02_0079PE',\n",
      "       'DP02_0095E', 'DP02_0095PE', 'DP02_0097E', 'DP02_0097PE', 'DP02_0114E',\n",
      "       'DP02_0114PE', 'DP02PR_0001E', 'DP02PR_0001PE', 'DP03_0045E',\n",
      "       'DP03_0045PE', 'DP03_0051E', 'DP03_0051PE', 'DP03_0062E', 'DP03_0062PE',\n",
      "       'DP03_0068E', 'DP03_0068PE', 'DP03_0078E', 'DP03_0078PE', 'DP03_0088E',\n",
      "       'DP03_0088PE', 'DP03_0119E', 'DP03_0119PE', 'DP04_0001E', 'DP04_0001PE',\n",
      "       'DP04_0003E', 'DP04_0003PE', 'DP04_0005E', 'DP04_0005PE', 'DP04_0047E',\n",
      "       'DP04_0047PE', 'DP04_0134E', 'DP04_0134PE', 'DP05_0001E', 'DP05_0001PE',\n",
      "       'DP05_0037E', 'DP05_0037PE', 'DP05_0038E', 'DP05_0038PE', 'DP05_0070E',\n",
      "       'DP05_0070PE', 'DP03_0009E', 'DP03_0009PE', 'DP03_0011E', 'DP03_0011PE',\n",
      "       'DP03_0013E', 'DP03_0013PE'],\n",
      "      dtype='object')\n"
     ]
    }
   ],
   "source": [
    "print(df.columns)"
   ]
  },
  {
   "cell_type": "code",
   "execution_count": 11,
   "metadata": {},
   "outputs": [
    {
     "name": "stdout",
     "output_type": "stream",
     "text": [
      "(333674, 75)\n"
     ]
    }
   ],
   "source": [
    "print(df.shape)"
   ]
  },
  {
   "cell_type": "code",
   "execution_count": 12,
   "metadata": {},
   "outputs": [],
   "source": [
    "df = df.rename(columns={\n",
    "    'DP03_0013E': 'fml_inlaborf',\n",
    "    'DP03_0013PE': 'fml_inlaborf_pr',\n",
    "    'DP03_0011E':'fml_emp',\n",
    "    'DP03_0011PE':'fml_emp_pr',\n",
    "    'DP03_0009E':'unemployment',\n",
    "    'DP03_0009PE':'unemployment_pr',\n",
    "    'DP05_0070E':'latino',\n",
    "    'DP05_0070PE':'latino_pr',\n",
    "    'DP05_0038E':'aa',\n",
    "    'DP05_0038PE':'aa_pr',\n",
    "    'DP05_0037E':'white',\n",
    "    'DP05_0037PE':'white_pr',\n",
    "    'DP05_0001E':'total_pop',\n",
    "    'DP05_0001PE':'total_pop_pr',\n",
    "    'DP04_0134E': 'median_rent',\n",
    "    'DP04_0134PE': 'median_rent_pr',\n",
    "    'DP04_0047E':'occupied_hunits_rent',\n",
    "    'DP04_0047PE':'occupied_hunits_rent_pr',\n",
    "    'DP04_0005E': 'hunits_rental',\n",
    "    'DP04_0005PE': 'hunits_rental_pr',\n",
    "    'DP04_0003E':'hunits_vacant',\n",
    "    'DP04_0003PE':'hunits_vacant_pr',\n",
    "    'DP04_0001E':'hunits_total',\n",
    "    'DP04_0001PE':'hunits_total_pr',\n",
    "    'DP03_0119E':'poverty',\n",
    "    'DP03_0119PE':'poverty_pr',\n",
    "    'DP03_0088E': 'inc_percapita',\n",
    "    'DP03_0088PE': 'inc_percapita_pr',\n",
    "    'DP03_0078E': 'inc_15_25',\n",
    "    'DP03_0078PE': 'inc_15_25_pr',\n",
    "    'DP02_0079E': 'pop_1year&over', \n",
    "    'DP02_0079PE': 'pop_1year&over_pr',\n",
    "    'DP02_0095E' : 'foreign_pop',\n",
    "    'DP02_0095PE':'foreign_pop_pr',\n",
    "    'DP02_0097E' : 'not_citizen',\n",
    "    'DP02_0097PE' : 'not_citizen_pr',\n",
    "    \"DP02_0114E\":'lang_spoken',\n",
    "    'DP02_0114PE': \"lang_spoken_pr\",\n",
    "    'DP02PR_0001E': \"total_hh\",\n",
    "    'DP02PR_0001PE': \"total_hh_pr\",\n",
    "    'DP03_0045E': \"civil_emp\",\n",
    "    'DP03_0045PE': \"civil_emp_pr\",\n",
    "    'DP03_0051E' :\"inc_total\",\n",
    "    'DP03_0051PE' :\"inc_total_pr\",\n",
    "    'DP03_0062E' : \"inc_median\",\n",
    "    'DP03_0062PE' : \"inc_median_pr\",\n",
    "    'DP03_0068E' : 'inc_retirement',\n",
    "    'DP03_0068PE' : 'inc_retirement_pr'\n",
    "    })"
   ]
  },
  {
   "cell_type": "code",
   "execution_count": 13,
   "metadata": {},
   "outputs": [],
   "source": [
    "df['created_year_month']=df['created_year_month'].astype(str)\n",
    "df['month'] = df['created_year_month'].str.slice(start=4)"
   ]
  },
  {
   "cell_type": "code",
   "execution_count": 14,
   "metadata": {},
   "outputs": [],
   "source": [
    "def month_to_text(month_number):\n",
    "    months = ['Jan', 'Feb', 'Mar', 'Apr', 'May', 'Jun',\n",
    "              'Jul', 'Aug', 'Sep', 'Oct', 'Nov', 'Dec']\n",
    "    return months[int(month_number) - 1]"
   ]
  },
  {
   "cell_type": "code",
   "execution_count": 15,
   "metadata": {},
   "outputs": [],
   "source": [
    "df['month'] = df['month'].apply(month_to_text)"
   ]
  },
  {
   "cell_type": "code",
   "execution_count": 16,
   "metadata": {},
   "outputs": [],
   "source": [
    "df['intime'] = np.where(df['goal_days'] - df['actual_completed_days'] >= 0, 1, 0)"
   ]
  },
  {
   "cell_type": "code",
   "execution_count": 17,
   "metadata": {},
   "outputs": [
    {
     "name": "stdout",
     "output_type": "stream",
     "text": [
      "(333674, 77)\n"
     ]
    }
   ],
   "source": [
    "print(df.shape)"
   ]
  },
  {
   "cell_type": "code",
   "execution_count": 18,
   "metadata": {},
   "outputs": [],
   "source": [
    "df.to_csv('combined_data.csv', index=False)"
   ]
  },
  {
   "cell_type": "code",
   "execution_count": 19,
   "metadata": {},
   "outputs": [],
   "source": [
    "import math\n",
    "df = df[df['total_pop'] != 0]\n",
    "df['median_rent']=pd.to_numeric(df['median_rent'])\n",
    "df['latino_pr'] = df['latino']/df['total_pop']\n",
    "df['log_pop'] = df['total_pop'].apply(lambda x: math.log(x))\n",
    "df['log_hunits']= df['hunits_total'].apply(lambda x: math.log(x))\n",
    "df['log_percapita']=df['inc_percapita'].apply(lambda x: math.log(x))\n",
    "df['log_foreign_pop']=df['foreign_pop'].apply(lambda x: math.log(x))\n",
    "df['log_inc_total']=df['inc_total'].apply(lambda x: math.log(x))\n",
    "df['log_median_rent']=df['median_rent'].apply(lambda x: math.log(x))\n",
    "df['log_inc_median']=df['inc_median'].apply(lambda x: math.log(x))\n"
   ]
  },
  {
   "cell_type": "code",
   "execution_count": 20,
   "metadata": {},
   "outputs": [],
   "source": [
    "df = df.drop(['ticket_id','issue_description','case_owner_description', 'street_address','state', 'location_city',\n",
    "              'neighborhood_district','created_year_month', 'ticket_created_date_time','ticket__last_update_date_time',\n",
    "              'ticket_closed_date_time','ticket_year','ticket_status','sr_xcoordinate','sr_ycoordinate','actual_completed_days',\n",
    "              'ticket_year','ObjectId','NAME','pop_1year&over','pop_1year&over_pr','foreign_pop_pr','not_citizen',\n",
    "              'fml_inlaborf','unemployment','poverty','lang_spoken','total_hh','total_hh_pr','hunits_total_pr','civil_emp','inc_total_pr',\n",
    "              'inc_median_pr','inc_retirement','inc_15_25','inc_percapita_pr','poverty','hunits_total_pr','hunits_vacant',\n",
    "              'hunits_rental_pr','occupied_hunits_rent','median_rent_pr','total_pop_pr','white','white_pr','aa','latino_pr',\n",
    "              'fml_emp','fml_inlaborf',\n",
    "              'latino','total_pop','hunits_total','inc_percapita','foreign_pop','inc_total','median_rent','inc_median','log_hunits'], axis=1)"
   ]
  },
  {
   "cell_type": "code",
   "execution_count": 21,
   "metadata": {},
   "outputs": [
    {
     "name": "stdout",
     "output_type": "stream",
     "text": [
      "(333669, 30)\n"
     ]
    }
   ],
   "source": [
    "print(df.shape)"
   ]
  },
  {
   "cell_type": "code",
   "execution_count": 22,
   "metadata": {},
   "outputs": [],
   "source": [
    "df = df.dropna()"
   ]
  },
  {
   "cell_type": "code",
   "execution_count": null,
   "metadata": {},
   "outputs": [],
   "source": []
  },
  {
   "cell_type": "code",
   "execution_count": 23,
   "metadata": {},
   "outputs": [],
   "source": [
    "df.to_csv('processed_data.csv', index=False)"
   ]
  },
  {
   "cell_type": "code",
   "execution_count": 24,
   "metadata": {},
   "outputs": [
    {
     "name": "stdout",
     "output_type": "stream",
     "text": [
      "Index(['issue_type', 'case_owner', 'city', 'zip_code', 'latitude', 'longitude',\n",
      "       'method_received', 'sr_priority', 'goal_days', 'not_citizen_pr',\n",
      "       'lang_spoken_pr', 'civil_emp_pr', 'inc_retirement_pr', 'inc_15_25_pr',\n",
      "       'poverty_pr', 'hunits_vacant_pr', 'hunits_rental',\n",
      "       'occupied_hunits_rent_pr', 'aa_pr', 'unemployment_pr', 'fml_emp_pr',\n",
      "       'fml_inlaborf_pr', 'month', 'intime', 'log_pop', 'log_percapita',\n",
      "       'log_foreign_pop', 'log_inc_total', 'log_median_rent',\n",
      "       'log_inc_median'],\n",
      "      dtype='object')\n"
     ]
    }
   ],
   "source": [
    "print(df.columns)"
   ]
  },
  {
   "cell_type": "code",
   "execution_count": 25,
   "metadata": {},
   "outputs": [
    {
     "name": "stdout",
     "output_type": "stream",
     "text": [
      "(331455, 30)\n"
     ]
    }
   ],
   "source": [
    "print(df.shape)"
   ]
  }
 ],
 "metadata": {
  "kernelspec": {
   "display_name": "Python 3",
   "language": "python",
   "name": "python3"
  },
  "language_info": {
   "codemirror_mode": {
    "name": "ipython",
    "version": 3
   },
   "file_extension": ".py",
   "mimetype": "text/x-python",
   "name": "python",
   "nbconvert_exporter": "python",
   "pygments_lexer": "ipython3",
   "version": "3.10.5"
  },
  "orig_nbformat": 4
 },
 "nbformat": 4,
 "nbformat_minor": 2
}
